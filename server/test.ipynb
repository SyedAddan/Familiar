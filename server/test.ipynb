{
 "cells": [
  {
   "cell_type": "code",
   "execution_count": 7,
   "metadata": {},
   "outputs": [],
   "source": [
    "import os"
   ]
  },
  {
   "cell_type": "code",
   "execution_count": 8,
   "metadata": {},
   "outputs": [],
   "source": [
    "libs = \"\"\"inflect==5.3.0\n",
    "librosa==0.8.1\n",
    "matplotlib==3.5.1\n",
    "numpy==1.20.3\n",
    "Pillow==8.4.0\n",
    "PyQt5==5.15.6\n",
    "scikit-learn==1.0.2\n",
    "scipy==1.7.3\n",
    "sounddevice==0.4.3\n",
    "SoundFile==0.10.3.post1\n",
    "tqdm==4.62.3\n",
    "umap-learn==0.5.2\n",
    "Unidecode==1.3.2\n",
    "urllib3==1.26.7\n",
    "visdom==0.1.8.9\n",
    "webrtcvad==2.0.10\"\"\""
   ]
  },
  {
   "cell_type": "code",
   "execution_count": 9,
   "metadata": {},
   "outputs": [],
   "source": [
    "for package in libs.split(\"\\n\"):\n",
    "    os.system(f\"pip install {package}\")"
   ]
  },
  {
   "cell_type": "code",
   "execution_count": 10,
   "metadata": {},
   "outputs": [
    {
     "ename": "ModuleNotFoundError",
     "evalue": "No module named 'vocoder'",
     "output_type": "error",
     "traceback": [
      "\u001b[1;31m---------------------------------------------------------------------------\u001b[0m",
      "\u001b[1;31mModuleNotFoundError\u001b[0m                       Traceback (most recent call last)",
      "Cell \u001b[1;32mIn[10], line 1\u001b[0m\n\u001b[1;32m----> 1\u001b[0m \u001b[39mfrom\u001b[39;00m \u001b[39mutils\u001b[39;00m\u001b[39m.\u001b[39;00m\u001b[39mtts\u001b[39;00m\u001b[39m.\u001b[39;00m\u001b[39mtts\u001b[39;00m \u001b[39mimport\u001b[39;00m synthesize\n",
      "File \u001b[1;32md:\\Uni\\Semester 7\\FYP\\Familiar\\server\\utils\\tts\\tts.py:10\u001b[0m\n\u001b[0;32m      8\u001b[0m \u001b[39m# from scipy.io.wavfile import write\u001b[39;00m\n\u001b[0;32m      9\u001b[0m \u001b[39mfrom\u001b[39;00m \u001b[39mpathlib\u001b[39;00m \u001b[39mimport\u001b[39;00m Path\n\u001b[1;32m---> 10\u001b[0m \u001b[39mfrom\u001b[39;00m \u001b[39mvocoder\u001b[39;00m \u001b[39mimport\u001b[39;00m inference \u001b[39mas\u001b[39;00m vocoder\n\u001b[0;32m     11\u001b[0m \u001b[39mfrom\u001b[39;00m \u001b[39mencoder\u001b[39;00m \u001b[39mimport\u001b[39;00m inference \u001b[39mas\u001b[39;00m encoder\n\u001b[0;32m     12\u001b[0m \u001b[39mfrom\u001b[39;00m \u001b[39msynthesizer\u001b[39;00m\u001b[39m.\u001b[39;00m\u001b[39minference\u001b[39;00m \u001b[39mimport\u001b[39;00m Synthesizer\n",
      "\u001b[1;31mModuleNotFoundError\u001b[0m: No module named 'vocoder'"
     ]
    }
   ],
   "source": [
    "from utils.tts.tts import synthesize"
   ]
  },
  {
   "cell_type": "code",
   "execution_count": null,
   "metadata": {},
   "outputs": [],
   "source": []
  }
 ],
 "metadata": {
  "kernelspec": {
   "display_name": "familiar",
   "language": "python",
   "name": "python3"
  },
  "language_info": {
   "codemirror_mode": {
    "name": "ipython",
    "version": 3
   },
   "file_extension": ".py",
   "mimetype": "text/x-python",
   "name": "python",
   "nbconvert_exporter": "python",
   "pygments_lexer": "ipython3",
   "version": "3.8.19"
  },
  "orig_nbformat": 4
 },
 "nbformat": 4,
 "nbformat_minor": 2
}
